{
 "cells": [
  {
   "cell_type": "code",
   "execution_count": 1,
   "metadata": {},
   "outputs": [],
   "source": [
    "import tensorflow as tf\n",
    "import keras\n",
    "from tensorflow.keras.applications.mobilenet_v2 import preprocess_input\n",
    "from tensorflow.keras.preprocessing.image import img_to_array\n",
    "from tensorflow.keras.preprocessing.image import load_img\n",
    "import numpy as np\n",
    "import argparse\n",
    "import cv2\n",
    "import os\n",
    "import time"
   ]
  },
  {
   "cell_type": "markdown",
   "metadata": {},
   "source": [
    "# Load Model"
   ]
  },
  {
   "cell_type": "code",
   "execution_count": 2,
   "metadata": {},
   "outputs": [],
   "source": [
    "model = tf.keras.models.load_model(\"models/My_Model.h5\")"
   ]
  },
  {
   "cell_type": "markdown",
   "metadata": {},
   "source": [
    "# Load face detection classifier"
   ]
  },
  {
   "cell_type": "code",
   "execution_count": 3,
   "metadata": {},
   "outputs": [],
   "source": [
    "face_cascade = cv2.CascadeClassifier('haarcascade_frontalface_default.xml') # xml downloaded from https://github.com/opencv/opencv/blob/3.4/data/haarcascades/haarcascade_frontalface_default.xml"
   ]
  },
  {
   "cell_type": "code",
   "execution_count": 4,
   "metadata": {},
   "outputs": [],
   "source": [
    "cap = cv2.VideoCapture(0) # open a camera for video capturing.\n",
    "\n",
    "while True:\n",
    "    \n",
    "    # ret is a boolean regarding whether or not there was a return at all, \n",
    "    # at the frame is each frame that is returned. \n",
    "    # If there is no frame, you wont get an error, you will get None.\n",
    "    ret, img = cap.read()\n",
    "    \n",
    "    if ret == True:\n",
    "        time.sleep(1/25) # add delay in the execution of the program\n",
    "\n",
    "        gray = cv2.cvtColor(img, cv2.COLOR_RGB2GRAY) # convert img(frame) from rgb color space to gray\n",
    "        faces = face_cascade.detectMultiScale(gray, 1.3, 8) # (gray, 1.3, 8) => image, scaleFactor, minNeighbours\n",
    "        # if faces are found, it returns the positions of detected faces as Rect(x,y,w,h). \n",
    "        \n",
    "        for (x, y, w, h) in faces:\n",
    "\n",
    "            face = img[y:y+h, x:x+w]\n",
    "            face = cv2.resize(face, (224, 224))\n",
    "            face = img_to_array(face)\n",
    "            face = preprocess_input(face)\n",
    "            face = np.expand_dims(face, axis=0)\n",
    "            (mask, withoutMask) = model.predict(face)[0]\n",
    "            mask = mask*100 # accuracy of mask on\n",
    "            withoutMask = withoutMask*100 # accuracy of no mask\n",
    "\n",
    "            font = cv2.FONT_HERSHEY_SIMPLEX\n",
    "            # get text size in pixel\n",
    "            textSize = cv2.getTextSize(text=\"No Mask: \" + str(\"%.2f\" % round(mask, 2)), fontFace=cv2.FONT_HERSHEY_SIMPLEX, fontScale=1, thickness=3)\n",
    "\n",
    "            # draw a text string and rectangle on the image\n",
    "            if mask > withoutMask:\n",
    "                cv2.putText(img,\n",
    "                            text = \"Mask: \" + str(\"%.2f\" % round(mask, 2)),\n",
    "                            org = (x-5,y-20),\n",
    "                            fontFace=font,\n",
    "                            fontScale = (2*w)/textSize[0][0],\n",
    "                            color = (0, 255, 0),\n",
    "                            thickness = 3,\n",
    "                            lineType = cv2.LINE_AA)\n",
    "                cv2.rectangle(img, (x, y), (x+w, y+h), (0,255,0), 5)\n",
    "            else:\n",
    "                cv2.putText(img,\n",
    "                            text = \"No Mask: \" + str(\"%.2f\" % round(withoutMask, 2)),\n",
    "                            org = (x-5,y-20),\n",
    "                            fontFace=font,\n",
    "                            fontScale = (1.8*w)/textSize[0][0],\n",
    "                            color = (0, 0, 255),\n",
    "                            thickness = 3,\n",
    "                            lineType = cv2.LINE_AA)\n",
    "                cv2.rectangle(img, (x, y), (x+w, y+h), (0, 0, 255), 5)\n",
    "        \n",
    "        # display    \n",
    "        cv2.imshow(\"Face Mask Detection\",img)\n",
    "\n",
    "        if cv2.waitKey(1) & 0XFF == ord('q'):\n",
    "            break\n",
    "    else:\n",
    "        break\n",
    "\n",
    "# when everything done, release the capture\n",
    "cap.release()\n",
    "cv2.destroyAllWindows()"
   ]
  },
  {
   "cell_type": "code",
   "execution_count": null,
   "metadata": {},
   "outputs": [],
   "source": []
  }
 ],
 "metadata": {
  "kernelspec": {
   "display_name": "Python 3",
   "language": "python",
   "name": "python3"
  },
  "language_info": {
   "codemirror_mode": {
    "name": "ipython",
    "version": 3
   },
   "file_extension": ".py",
   "mimetype": "text/x-python",
   "name": "python",
   "nbconvert_exporter": "python",
   "pygments_lexer": "ipython3",
   "version": "3.8.5"
  }
 },
 "nbformat": 4,
 "nbformat_minor": 4
}
